{
 "cells": [
  {
   "cell_type": "code",
   "execution_count": null,
   "metadata": {},
   "outputs": [],
   "source": [
    "import mysql.connector\n",
    "\n",
    "conn = mysql.connector.connect(username= \"root\",\n",
    "                               host = \"127.0.0.1\",\n",
    "                               password = \"Admin@123\",\n",
    "                               database = \"dataspark\")\n",
    "\n",
    "cursor = conn.cursor()\n",
    "import pandas as pd"
   ]
  },
  {
   "cell_type": "code",
   "execution_count": null,
   "metadata": {},
   "outputs": [],
   "source": [
    "create_customer_table = \"\"\"CREATE TABLE customer (\n",
    "    customerkey INT PRIMARY KEY,\n",
    "    gender VARCHAR(10),\n",
    "    name VARCHAR(100),\n",
    "    city VARCHAR(100),\n",
    "    state_code VARCHAR(100),\n",
    "    state VARCHAR(100),\n",
    "    zip_code VARCHAR(20),\n",
    "    country VARCHAR(100),\n",
    "    continent VARCHAR(50),\n",
    "    birthday DATE,\n",
    "    age INT,\n",
    "    segment VARCHAR(50)\n",
    ");\"\"\"\n",
    "cursor.execute(create_customer_table)\n",
    "conn.commit()"
   ]
  },
  {
   "cell_type": "code",
   "execution_count": null,
   "metadata": {},
   "outputs": [],
   "source": [
    "create_exchange_table = \"\"\"CREATE TABLE exchange_rates (\n",
    "    date DATE NOT NULL,\n",
    "    currency VARCHAR(10) NOT NULL,\n",
    "    exchange DECIMAL(10, 4) NOT NULL\n",
    ");\"\"\"\n",
    "cursor.execute(create_exchange_table)\n",
    "conn.commit()"
   ]
  },
  {
   "cell_type": "code",
   "execution_count": null,
   "metadata": {},
   "outputs": [],
   "source": [
    "create_product_table = \"\"\"CREATE TABLE product (\n",
    "    productkey INT PRIMARY KEY,\n",
    "    product_name VARCHAR(255) NOT NULL,\n",
    "    brand VARCHAR(255) NOT NULL,\n",
    "    color VARCHAR(50),\n",
    "    unit_cost_usd DECIMAL(10, 2),\n",
    "    unit_price_usd DECIMAL(10, 2),\n",
    "    subcategorykey INT,\n",
    "    subcategory VARCHAR(255),\n",
    "    categorykey INT,\n",
    "    category VARCHAR(255)\n",
    ");\"\"\"\n",
    "cursor.execute(create_product_table)\n",
    "conn.commit()"
   ]
  },
  {
   "cell_type": "code",
   "execution_count": null,
   "metadata": {},
   "outputs": [],
   "source": [
    "create_sales_table='''CREATE TABLE sales (\n",
    "    order_number INT,\n",
    "    line_item INT NOT NULL,\n",
    "    order_date DATE NOT NULL,\n",
    "    delivery_date DATE,\n",
    "    customerkey INT NOT NULL,\n",
    "    storekey INT NOT NULL,\n",
    "    productkey INT NOT NULL,\n",
    "    quantity INT NOT NULL,\n",
    "    currency_code VARCHAR(10),\n",
    "    shipping_days INT\n",
    ");'''\n",
    "cursor.execute(create_sales_table)\n",
    "conn.commit()"
   ]
  },
  {
   "cell_type": "code",
   "execution_count": null,
   "metadata": {},
   "outputs": [],
   "source": [
    "create_store_table = \"\"\"CREATE TABLE stores (\n",
    "    storekey INT PRIMARY KEY,\n",
    "    country VARCHAR(100),\n",
    "    state VARCHAR(100),\n",
    "    square_meters DECIMAL(10, 2),\n",
    "    open_date DATE\n",
    ");\"\"\"\n",
    "cursor.execute(create_store_table)\n",
    "conn.commit()"
   ]
  },
  {
   "cell_type": "code",
   "execution_count": null,
   "metadata": {},
   "outputs": [],
   "source": [
    "create_calendar_table = \"\"\"CREATE TABLE calendar (\n",
    "    date DATE PRIMARY KEY\n",
    ");\"\"\"\n",
    "cursor.execute(create_calendar_table)\n",
    "conn.commit()"
   ]
  },
  {
   "cell_type": "code",
   "execution_count": null,
   "metadata": {},
   "outputs": [],
   "source": [
    "merge_table = \"\"\"select s.*, er.exchange, st.*,p.*,c.*\n",
    "from sales s\n",
    "join exchange_rates er \n",
    "\ton (s.order_date = er.date and s.currency_code = er.currency)\n",
    "join stores st\n",
    "\ton st.storekey = s.storekey\n",
    "join product p\n",
    "\ton p.productkey = s.productkey\n",
    "join customer c\n",
    "\ton c.customerkey = s.customerkey;\"\"\""
   ]
  },
  {
   "cell_type": "code",
   "execution_count": null,
   "metadata": {},
   "outputs": [],
   "source": [
    "combined_sales = \"\"\"create table combined_sales as\n",
    "select s.*, er.exchange, \n",
    "st.country as store_country,\n",
    "st.state as store_state,\n",
    "st.square_meters,\n",
    "st.open_date,\n",
    "p.product_name,\n",
    "p.brand as brand,\n",
    "p.color,\n",
    "p.unit_cost_usd,\n",
    "p.unit_price_usd,\n",
    "p.subcategorykey,\n",
    "p.subcategory,\n",
    "p.categorykey,\n",
    "p.category,\n",
    "c.gender,\n",
    "c.name as customer_name,\n",
    "c.city,\n",
    "c.state_code,\n",
    "c.state,\n",
    "c.zip_code,\n",
    "c.country,\n",
    "c.continent,\n",
    "c.birthday,\n",
    "c.age,\n",
    "c.segment\n",
    "from sales s\n",
    "join exchange_rates er \n",
    "\ton (s.order_date = er.date and s.currency_code = er.currency)\n",
    "join stores st\n",
    "\ton st.storekey = s.storekey\n",
    "join product p\n",
    "\ton p.productkey = s.productkey\n",
    "join customer c\n",
    "\ton c.customerkey = s.customerkey;\"\"\""
   ]
  },
  {
   "cell_type": "code",
   "execution_count": null,
   "metadata": {},
   "outputs": [],
   "source": [
    "select_query = \"\"\"SELECT * FROM combined_sales;\"\"\"\n",
    "cursor.execute(select_query)\n",
    "res = conn.commit()"
   ]
  },
  {
   "cell_type": "code",
   "execution_count": null,
   "metadata": {},
   "outputs": [],
   "source": [
    "pd.set_option('display.max_rows',None)"
   ]
  },
  {
   "cell_type": "code",
   "execution_count": null,
   "metadata": {},
   "outputs": [],
   "source": [
    "columns = [\n",
    "    'order_number', 'line_item', 'order_date', 'delivery_date', 'customerkey',\n",
    "    'storekey', 'productkey', 'quantity', 'currency_code', 'shipping_days',\n",
    "    'exchange', 'store_country', 'store_state', 'square_meters', 'open_date',\n",
    "    'product_name', 'brand', 'color', 'unit_cost_usd', 'unit_price_usd',\n",
    "    'subcategorykey', 'subcategory', 'categorykey', 'category', 'gender',\n",
    "    'customer_name', 'city', 'state_code', 'state', 'zip_code', 'country',\n",
    "    'continent', 'birthday', 'age', 'segment'\n",
    "]\n",
    "\n",
    "# Create DataFrame with the fetched results and the defined column names\n",
    "dft = pd.DataFrame(res, columns=columns)\n",
    "dft.head(5)"
   ]
  }
 ],
 "metadata": {
  "kernelspec": {
   "display_name": "Python 3",
   "language": "python",
   "name": "python3"
  },
  "language_info": {
   "codemirror_mode": {
    "name": "ipython",
    "version": 3
   },
   "file_extension": ".py",
   "mimetype": "text/x-python",
   "name": "python",
   "nbconvert_exporter": "python",
   "pygments_lexer": "ipython3",
   "version": "3.12.4"
  }
 },
 "nbformat": 4,
 "nbformat_minor": 2
}
