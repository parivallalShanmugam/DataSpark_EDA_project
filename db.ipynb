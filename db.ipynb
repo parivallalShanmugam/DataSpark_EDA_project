{
 "cells": [
  {
   "cell_type": "code",
   "execution_count": 1,
   "metadata": {},
   "outputs": [],
   "source": [
    "import mysql.connector\n",
    "\n",
    "conn = mysql.connector.connect(username= \"root\",\n",
    "                               host = \"127.0.0.1\",\n",
    "                               password = \"Admin@123\",\n",
    "                               database = \"dataspark1\")\n",
    "\n",
    "cursor = conn.cursor()"
   ]
  },
  {
   "cell_type": "code",
   "execution_count": 2,
   "metadata": {},
   "outputs": [],
   "source": [
    "create_customer_table = \"\"\"CREATE TABLE customer (\n",
    "    customerkey INT PRIMARY KEY,\n",
    "    gender VARCHAR(10),\n",
    "    name VARCHAR(100),\n",
    "    city VARCHAR(100),\n",
    "    state_code VARCHAR(100),\n",
    "    state VARCHAR(100),\n",
    "    zip_code VARCHAR(20),\n",
    "    country VARCHAR(100),\n",
    "    continent VARCHAR(50),\n",
    "    birthday DATE,\n",
    "    age INT,\n",
    "    segment VARCHAR(50)\n",
    ");\"\"\"\n",
    "cursor.execute(create_customer_table)\n",
    "conn.commit()"
   ]
  },
  {
   "cell_type": "code",
   "execution_count": 3,
   "metadata": {},
   "outputs": [],
   "source": [
    "create_exchange_table = \"\"\"CREATE TABLE exchange_rates (\n",
    "    date DATE NOT NULL,\n",
    "    currency VARCHAR(10) NOT NULL,\n",
    "    exchange DECIMAL(10, 4) NOT NULL\n",
    ");\"\"\"\n",
    "cursor.execute(create_exchange_table)\n",
    "conn.commit()"
   ]
  },
  {
   "cell_type": "code",
   "execution_count": 4,
   "metadata": {},
   "outputs": [],
   "source": [
    "create_product_table = \"\"\"CREATE TABLE product (\n",
    "    productkey INT PRIMARY KEY,\n",
    "    product_name VARCHAR(255) NOT NULL,\n",
    "    brand VARCHAR(255) NOT NULL,\n",
    "    color VARCHAR(50),\n",
    "    unit_cost_usd DECIMAL(10, 2),\n",
    "    unit_price_usd DECIMAL(10, 2),\n",
    "    subcategorykey INT,\n",
    "    subcategory VARCHAR(255),\n",
    "    categorykey INT,\n",
    "    category VARCHAR(255)\n",
    ");\"\"\"\n",
    "cursor.execute(create_product_table)\n",
    "conn.commit()"
   ]
  },
  {
   "cell_type": "code",
   "execution_count": 5,
   "metadata": {},
   "outputs": [],
   "source": [
    "create_sales_table='''CREATE TABLE sales (\n",
    "    order_number INT,\n",
    "    line_item INT NOT NULL,\n",
    "    order_date DATE NOT NULL,\n",
    "    delivery_date DATE,\n",
    "    customerkey INT NOT NULL,\n",
    "    storekey INT NOT NULL,\n",
    "    productkey INT NOT NULL,\n",
    "    quantity INT NOT NULL,\n",
    "    currency_code VARCHAR(10),\n",
    "    shipping_days INT\n",
    ");'''\n",
    "cursor.execute(create_sales_table)\n",
    "conn.commit()"
   ]
  },
  {
   "cell_type": "code",
   "execution_count": 6,
   "metadata": {},
   "outputs": [],
   "source": [
    "create_store_table = \"\"\"CREATE TABLE stores (\n",
    "    storekey INT PRIMARY KEY,\n",
    "    country VARCHAR(100),\n",
    "    state VARCHAR(100),\n",
    "    square_meters DECIMAL(10, 2),\n",
    "    open_date DATE\n",
    ");\"\"\"\n",
    "cursor.execute(create_store_table)\n",
    "conn.commit()"
   ]
  },
  {
   "cell_type": "code",
   "execution_count": 4,
   "metadata": {},
   "outputs": [],
   "source": [
    "drop_table = \"\"\"DROP TABLE customer\"\"\"\n",
    "cursor.execute(drop_table)\n",
    "conn.commit()"
   ]
  },
  {
   "cell_type": "code",
   "execution_count": 13,
   "metadata": {},
   "outputs": [],
   "source": [
    "select_query = \"\"\"SELECT * FROM stores\"\"\"\n",
    "\n",
    "cursor.execute(select_query)\n",
    "res = cursor.fetchall()"
   ]
  },
  {
   "cell_type": "code",
   "execution_count": 14,
   "metadata": {},
   "outputs": [
    {
     "data": {
      "text/plain": [
       "[]"
      ]
     },
     "execution_count": 14,
     "metadata": {},
     "output_type": "execute_result"
    }
   ],
   "source": [
    "res"
   ]
  },
  {
   "cell_type": "code",
   "execution_count": 5,
   "metadata": {},
   "outputs": [
    {
     "data": {
      "text/plain": [
       "[('storekey',), ('country',), ('state',), ('square_meters',), ('open_date',)]"
      ]
     },
     "execution_count": 5,
     "metadata": {},
     "output_type": "execute_result"
    }
   ],
   "source": [
    "column_names = \"\"\"SELECT COLUMN_NAME \n",
    "FROM INFORMATION_SCHEMA.COLUMNS \n",
    "WHERE TABLE_NAME = 'stores';\"\"\"\n",
    "\n",
    "cursor.execute(column_names)\n",
    "cursor.fetchall()"
   ]
  },
  {
   "cell_type": "code",
   "execution_count": null,
   "metadata": {},
   "outputs": [],
   "source": [
    "cursor.execute(drop_table)\n",
    "conn.commit()"
   ]
  },
  {
   "cell_type": "code",
   "execution_count": null,
   "metadata": {},
   "outputs": [],
   "source": []
  },
  {
   "cell_type": "code",
   "execution_count": null,
   "metadata": {},
   "outputs": [],
   "source": []
  }
 ],
 "metadata": {
  "kernelspec": {
   "display_name": "Python 3",
   "language": "python",
   "name": "python3"
  },
  "language_info": {
   "codemirror_mode": {
    "name": "ipython",
    "version": 3
   },
   "file_extension": ".py",
   "mimetype": "text/x-python",
   "name": "python",
   "nbconvert_exporter": "python",
   "pygments_lexer": "ipython3",
   "version": "3.12.4"
  }
 },
 "nbformat": 4,
 "nbformat_minor": 2
}
