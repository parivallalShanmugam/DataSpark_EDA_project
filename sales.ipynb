{
 "cells": [
  {
   "cell_type": "code",
   "execution_count": null,
   "metadata": {},
   "outputs": [],
   "source": [
    "import pandas as pd\n",
    "import mysql.connector\n",
    "import re\n",
    "conn = mysql.connector.connect(username= \"root\",\n",
    "                               host = \"127.0.0.1\",\n",
    "                               password = \"Admin@123\",\n",
    "                               database = \"dataspark\")\n",
    "\n",
    "cursor = conn.cursor()"
   ]
  },
  {
   "cell_type": "code",
   "execution_count": null,
   "metadata": {},
   "outputs": [],
   "source": [
    "df_sales = pd.read_csv('Sales.csv')"
   ]
  },
  {
   "cell_type": "code",
   "execution_count": null,
   "metadata": {},
   "outputs": [],
   "source": [
    "df_sales.columns = df_sales.columns.str.lower()\n",
    "df_sales.columns = df_sales.columns.str.replace(\" \",\"_\")\n",
    "df_sales.columns\n",
    "df_sales['order_date']= pd.to_datetime(df_sales['order_date'])\n",
    "df_sales['delivery_date']= pd.to_datetime(df_sales['delivery_date'])"
   ]
  },
  {
   "cell_type": "code",
   "execution_count": null,
   "metadata": {},
   "outputs": [],
   "source": [
    "df_sales[\"shipping_days\"] = (df_sales['delivery_date'] - df_sales['order_date']).dt.days"
   ]
  },
  {
   "cell_type": "code",
   "execution_count": null,
   "metadata": {},
   "outputs": [],
   "source": [
    "df_sales['delivery_date'] = df_sales['delivery_date'].fillna((df_sales['order_date'] + pd.Timedelta(days=4)))"
   ]
  },
  {
   "cell_type": "code",
   "execution_count": null,
   "metadata": {},
   "outputs": [],
   "source": [
    "df_sales[\"shipping_days\"] = (df_sales['delivery_date'] - df_sales['order_date']).dt.days"
   ]
  },
  {
   "cell_type": "code",
   "execution_count": null,
   "metadata": {},
   "outputs": [],
   "source": [
    "df_sales.head()"
   ]
  },
  {
   "cell_type": "code",
   "execution_count": null,
   "metadata": {},
   "outputs": [],
   "source": [
    "insert_sales_values = '''\n",
    "    INSERT INTO sales (\n",
    "        order_number, \n",
    "        line_item, \n",
    "        order_date, \n",
    "        delivery_date, \n",
    "        customerkey, \n",
    "        storekey, \n",
    "        productkey, \n",
    "        quantity, \n",
    "        currency_code, \n",
    "        shipping_days\n",
    "    ) VALUES (%s, %s, %s, %s, %s, %s, %s, %s, %s, %s)\n",
    "'''\n",
    "\n",
    "# Insert data into the sales table\n",
    "for index, row in df_sales.iterrows():\n",
    "    cursor.execute(insert_sales_values, (\n",
    "        row['order_number'],\n",
    "        row['line_item'],\n",
    "        row['order_date'],\n",
    "        row['delivery_date'],\n",
    "        row['customerkey'],\n",
    "        row['storekey'],\n",
    "        row['productkey'],\n",
    "        row['quantity'],\n",
    "        row['currency_code'],\n",
    "        row['shipping_days']\n",
    "    ))\n",
    "\n",
    "conn.commit()    "
   ]
  }
 ],
 "metadata": {
  "kernelspec": {
   "display_name": "Python 3",
   "language": "python",
   "name": "python3"
  },
  "language_info": {
   "codemirror_mode": {
    "name": "ipython",
    "version": 3
   },
   "file_extension": ".py",
   "mimetype": "text/x-python",
   "name": "python",
   "nbconvert_exporter": "python",
   "pygments_lexer": "ipython3",
   "version": "3.12.2"
  }
 },
 "nbformat": 4,
 "nbformat_minor": 2
}
