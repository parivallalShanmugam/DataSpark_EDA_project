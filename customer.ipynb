{
 "cells": [
  {
   "cell_type": "code",
   "execution_count": null,
   "metadata": {},
   "outputs": [],
   "source": [
    "import pandas as pd\n",
    "import mysql.connector\n",
    "\n",
    "conn = mysql.connector.connect(username= \"root\",\n",
    "                               host = \"127.0.0.1\",\n",
    "                               password = \"Admin@123\",\n",
    "                               database = \"dataspark\")\n",
    "\n",
    "cursor = conn.cursor()"
   ]
  },
  {
   "cell_type": "code",
   "execution_count": null,
   "metadata": {},
   "outputs": [],
   "source": [
    "df_customer = pd.read_csv('Customers.csv', encoding='latin1')\n",
    "\n",
    "df_customer.columns = df_customer.columns.str.lower()\n",
    "df_customer.columns = df_customer.columns.str.replace(\" \",\"_\")\n",
    "\n",
    "from datetime import datetime\n",
    "\n",
    "# Convert 'date_of_birth' to datetime\n",
    "df_customer['birthday'] = pd.to_datetime(df_customer['birthday'])\n",
    "\n",
    "# Define a function to calculate age\n",
    "def calculate_age(birthdate):\n",
    "    today = datetime.today()\n",
    "    age = today.year - birthdate.year - ((today.month, today.day) < (birthdate.month, birthdate.day))\n",
    "    return age\n",
    "\n",
    "# Apply the function to calculate age for each customer\n",
    "df_customer['age'] = df_customer['birthday'].apply(calculate_age)\n",
    "\n",
    "df_customer\n",
    "\n",
    "def age_segment(age):\n",
    "    if age < 25:\n",
    "        return 'young adult'\n",
    "    elif age < 55:\n",
    "        return 'middle age'\n",
    "    else:\n",
    "        return 'senior citizen'\n",
    "\n",
    "# Apply the function to the 'age' column\n",
    "df_customer['segment'] = df_customer['age'].apply(age_segment)\n"
   ]
  },
  {
   "cell_type": "code",
   "execution_count": null,
   "metadata": {},
   "outputs": [],
   "source": [
    "df_customer.columns"
   ]
  },
  {
   "cell_type": "code",
   "execution_count": null,
   "metadata": {},
   "outputs": [],
   "source": [
    "df_customer.head()"
   ]
  },
  {
   "cell_type": "code",
   "execution_count": 9,
   "metadata": {},
   "outputs": [
    {
     "name": "stdout",
     "output_type": "stream",
     "text": [
      "c.customerkey\n",
      "c.gender\n",
      "c.name\n",
      "c.city\n",
      "c.state_code\n",
      "c.state\n",
      "c.zip_code\n",
      "c.country\n",
      "c.continent\n",
      "c.birthday\n",
      "c.age\n",
      "c.segment\n"
     ]
    }
   ],
   "source": [
    "columns = ['customerkey', 'gender', 'name', 'city', 'state_code', 'state',\n",
    "           'zip_code', 'country', 'continent', 'birthday', 'age', 'segment']\n",
    "\n",
    "# Prefix to add\n",
    "prefix = 'c.'\n",
    "\n",
    "# Convert column names\n",
    "converted_columns = [f'{prefix}{col}' for col in columns]\n",
    "columns = ['c.'.join(column) for column in columns]\n",
    "\n",
    "for i in converted_columns:\n",
    "    print(i)"
   ]
  },
  {
   "cell_type": "code",
   "execution_count": null,
   "metadata": {},
   "outputs": [],
   "source": [
    "null_rows = df_customer[df_customer.isnull().any(axis=1)]\n",
    "null_rows"
   ]
  },
  {
   "cell_type": "code",
   "execution_count": null,
   "metadata": {},
   "outputs": [],
   "source": [
    "df_customer[df_customer['state_code'] == \"NA\"]"
   ]
  },
  {
   "cell_type": "code",
   "execution_count": null,
   "metadata": {},
   "outputs": [],
   "source": [
    "df_customer['state_code'] = df_customer['state_code'].fillna(\"NA\")"
   ]
  },
  {
   "cell_type": "code",
   "execution_count": null,
   "metadata": {},
   "outputs": [],
   "source": [
    "df_customer.drop_duplicates(subset=['customerkey'], keep='first', inplace=True)"
   ]
  },
  {
   "cell_type": "code",
   "execution_count": null,
   "metadata": {},
   "outputs": [],
   "source": [
    "df_customer.shape"
   ]
  },
  {
   "cell_type": "code",
   "execution_count": null,
   "metadata": {},
   "outputs": [],
   "source": [
    "df_customer.isna().sum()"
   ]
  },
  {
   "cell_type": "code",
   "execution_count": null,
   "metadata": {},
   "outputs": [],
   "source": [
    "duplicates = df_customer[df_customer['customerkey'].duplicated()]\n",
    "duplicates"
   ]
  },
  {
   "cell_type": "code",
   "execution_count": null,
   "metadata": {},
   "outputs": [],
   "source": [
    "insert_customer_values = '''\n",
    "    INSERT INTO customer (\n",
    "        customerkey,\n",
    "        gender,\n",
    "        name,\n",
    "        city,\n",
    "        state_code,\n",
    "        state,\n",
    "        zip_code,\n",
    "        country,\n",
    "        continent,\n",
    "        birthday,\n",
    "        age,\n",
    "        segment\n",
    "    ) VALUES (%s, %s, %s, %s, %s, %s, %s, %s, %s, %s, %s, %s)\n",
    "'''\n",
    "\n",
    "# Insert data into the customer table\n",
    "for index, row in df_customer.iterrows():\n",
    "    cursor.execute(insert_customer_values, (\n",
    "        row['customerkey'],\n",
    "        row['gender'],\n",
    "        row['name'],\n",
    "        row['city'],\n",
    "        row['state_code'],\n",
    "        row['state'],\n",
    "        row['zip_code'],\n",
    "        row['country'],\n",
    "        row['continent'],\n",
    "        row['birthday'],\n",
    "        row['age'],\n",
    "        row['segment']\n",
    "    ))\n",
    "\n",
    "conn.commit()"
   ]
  },
  {
   "cell_type": "code",
   "execution_count": null,
   "metadata": {},
   "outputs": [],
   "source": [
    "insert_customer_values = '''\n",
    "    INSERT INTO customer (\n",
    "        customerkey,\n",
    "        gender,\n",
    "        name,\n",
    "        city,\n",
    "        state_code,\n",
    "        state,\n",
    "        zip_code,\n",
    "        country,\n",
    "        continent,\n",
    "        birthday,\n",
    "        age,\n",
    "        segment\n",
    "    ) VALUES (%s, %s, %s, %s, %s, %s, %s, %s, %s, %s, %s, %s)\n",
    "    ON DUPLICATE KEY UPDATE\n",
    "        gender = VALUES(gender),\n",
    "        name = VALUES(name),\n",
    "        city = VALUES(city),\n",
    "        state_code = VALUES(state_code),\n",
    "        state = VALUES(state),\n",
    "        zip_code = VALUES(zip_code),\n",
    "        country = VALUES(country),\n",
    "        continent = VALUES(continent),\n",
    "        birthday = VALUES(birthday),\n",
    "        age = VALUES(age),\n",
    "        segment = VALUES(segment)\n",
    "'''\n",
    "\n",
    "# Insert data into the customer table\n",
    "for index, row in df_customer.iterrows():\n",
    "    cursor.execute(insert_customer_values, (\n",
    "        row['customerkey'],\n",
    "        row['gender'],\n",
    "        row['name'],\n",
    "        row['city'],\n",
    "        row['state_code'],\n",
    "        row['state'],\n",
    "        row['zip_code'],\n",
    "        row['country'],\n",
    "        row['continent'],\n",
    "        row['birthday'],\n",
    "        row['age'],\n",
    "        row['segment']\n",
    "    ))\n",
    "\n",
    "conn.commit()\n"
   ]
  }
 ],
 "metadata": {
  "kernelspec": {
   "display_name": "Python 3",
   "language": "python",
   "name": "python3"
  },
  "language_info": {
   "codemirror_mode": {
    "name": "ipython",
    "version": 3
   },
   "file_extension": ".py",
   "mimetype": "text/x-python",
   "name": "python",
   "nbconvert_exporter": "python",
   "pygments_lexer": "ipython3",
   "version": "3.12.2"
  }
 },
 "nbformat": 4,
 "nbformat_minor": 2
}
