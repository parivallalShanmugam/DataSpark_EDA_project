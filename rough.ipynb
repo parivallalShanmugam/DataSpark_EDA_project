{
 "cells": [
  {
   "cell_type": "code",
   "execution_count": 118,
   "metadata": {},
   "outputs": [],
   "source": [
    "import pandas as pd\n",
    "import mysql.connector\n",
    "import re\n",
    "conn = mysql.connector.connect(username= \"root\",\n",
    "                               host = \"127.0.0.1\",\n",
    "                               password = \"Admin@123\",\n",
    "                               database = \"dataspark\")\n",
    "\n",
    "cursor = conn.cursor()"
   ]
  },
  {
   "cell_type": "code",
   "execution_count": null,
   "metadata": {},
   "outputs": [],
   "source": [
    "df_sales = pd.read_csv('Sales.csv')\n",
    "df_stores = pd.read_csv('Stores.csv')\n",
    "df_product = pd.read_csv('Products.csv')\n",
    "df_exchange = pd.read_csv('Exchange_Rates.csv')\n"
   ]
  },
  {
   "cell_type": "code",
   "execution_count": null,
   "metadata": {},
   "outputs": [],
   "source": [
    "df_exchange = pd.read_csv('Exchange_Rates.csv')\n",
    "df_exchange.head(3)"
   ]
  },
  {
   "cell_type": "code",
   "execution_count": null,
   "metadata": {},
   "outputs": [],
   "source": [
    "df_exchange.columns = df_exchange.columns.str.lower()\n",
    "df_exchange.columns = df_exchange.columns.str.replace(\" \",'_')"
   ]
  },
  {
   "cell_type": "code",
   "execution_count": null,
   "metadata": {},
   "outputs": [],
   "source": [
    "df_exchange['date'] = pd.to_datetime(df_exchange['date'])"
   ]
  },
  {
   "cell_type": "code",
   "execution_count": null,
   "metadata": {},
   "outputs": [],
   "source": [
    "df_exchange.info()"
   ]
  },
  {
   "cell_type": "code",
   "execution_count": null,
   "metadata": {},
   "outputs": [],
   "source": [
    "df_product = pd.read_csv('Products.csv')\n",
    "print(df_product.info())\n",
    "df_product.head()\n",
    "\n",
    "\n",
    "df_product.columns = df_product.columns.str.lower()\n",
    "df_product.columns = df_product.columns.str.replace(\" \",\"_\")\n",
    "\n",
    "print(df_product.columns)\n",
    "\n"
   ]
  },
  {
   "cell_type": "code",
   "execution_count": 121,
   "metadata": {},
   "outputs": [
    {
     "data": {
      "text/plain": [
       "Index(['productkey', 'product_name', 'brand', 'color', 'unit_cost_usd',\n",
       "       'unit_price_usd', 'subcategorykey', 'subcategory', 'categorykey',\n",
       "       'category'],\n",
       "      dtype='object')"
      ]
     },
     "execution_count": 121,
     "metadata": {},
     "output_type": "execute_result"
    }
   ],
   "source": [
    "df_product.columns"
   ]
  },
  {
   "cell_type": "code",
   "execution_count": 119,
   "metadata": {},
   "outputs": [],
   "source": [
    "def extract_numeric(value):\n",
    "    return float(re.sub(r'[^\\d.]', '', value))\n",
    "\n",
    "# Apply function to the relevant columns\n",
    "df_product['unit_cost_usd'] = df_product['unit_cost_usd'].apply(extract_numeric)\n",
    "df_product['unit_price_usd'] = df_product['unit_price_usd'].apply(extract_numeric)"
   ]
  },
  {
   "cell_type": "code",
   "execution_count": 120,
   "metadata": {},
   "outputs": [],
   "source": [
    "insert_product_values = '''\n",
    "    INSERT INTO product (\n",
    "        productkey, \n",
    "        product_name, \n",
    "        brand, \n",
    "        color, \n",
    "        unit_cost_usd, \n",
    "        unit_price_usd, \n",
    "        subcategorykey, \n",
    "        subcategory, \n",
    "        categorykey, \n",
    "        category\n",
    "    ) VALUES (%s, %s, %s, %s, %s, %s, %s, %s, %s, %s)\n",
    "'''\n",
    "\n",
    "# Insert data into the product table\n",
    "for index, row in df_product.iterrows():\n",
    "    cursor.execute(insert_product_values, (\n",
    "        row['productkey'],\n",
    "        row['product_name'],\n",
    "        row['brand'],\n",
    "        row['color'],\n",
    "        row['unit_cost_usd'],\n",
    "        row['unit_price_usd'],\n",
    "        row['subcategorykey'],\n",
    "        row['subcategory'],\n",
    "        row['categorykey'],\n",
    "        row['category']\n",
    "    ))\n",
    "conn.commit()"
   ]
  }
 ],
 "metadata": {
  "kernelspec": {
   "display_name": "Python 3",
   "language": "python",
   "name": "python3"
  },
  "language_info": {
   "codemirror_mode": {
    "name": "ipython",
    "version": 3
   },
   "file_extension": ".py",
   "mimetype": "text/x-python",
   "name": "python",
   "nbconvert_exporter": "python",
   "pygments_lexer": "ipython3",
   "version": "3.12.4"
  }
 },
 "nbformat": 4,
 "nbformat_minor": 2
}
