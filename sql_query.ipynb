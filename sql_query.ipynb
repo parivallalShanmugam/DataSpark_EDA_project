{
 "cells": [
  {
   "cell_type": "code",
   "execution_count": null,
   "metadata": {},
   "outputs": [],
   "source": [
    "import pandas as pd\n",
    "import mysql.connector\n",
    "\n",
    "conn = mysql.connector.connect(username= \"root\",\n",
    "                               host = \"127.0.0.1\",\n",
    "                               password = \"Admin@123\",\n",
    "                               database = \"dataspark\")\n",
    "\n",
    "cursor = conn.cursor()"
   ]
  },
  {
   "cell_type": "markdown",
   "metadata": {},
   "source": [
    "Customer Analysis"
   ]
  },
  {
   "cell_type": "code",
   "execution_count": null,
   "metadata": {},
   "outputs": [],
   "source": [
    "#gender distribution\n",
    "gender_distribution = '''select gender,count(DISTINCT customerkey) as count \n",
    "                         from combined_sales\n",
    "                        group by gender;'''\n",
    "cursor.execute(gender_distribution)\n",
    "result = cursor.fetchall()\n",
    "df_gender_distribution = pd.DataFrame(result, columns=['gender', 'count'])\n",
    "print(df_gender_distribution)\n",
    "\n",
    "#age_distribution\n",
    "age_distribution = '''select age,count(DISTINCT customerkey) as count\n",
    "from combined_sales\n",
    "group by age\n",
    "order by age;'''\n",
    "cursor.execute(age_distribution)\n",
    "result = cursor.fetchall()\n",
    "df_age_distribution = pd.DataFrame(result, columns=['Age', 'count'])\n",
    "print(df_age_distribution.head())\n",
    "\n",
    "#Customer Segmentation\n",
    "Customer_Segmentation = '''select segment,count(DISTINCT customerkey) as count\n",
    "from combined_sales\n",
    "group by segment\n",
    "order by count desc;'''\n",
    "cursor.execute(Customer_Segmentation)\n",
    "result = cursor.fetchall()\n",
    "df_Customer_Segmentation = pd.DataFrame(result, columns=['Segment', 'count'])\n",
    "print(df_Customer_Segmentation.head())\n",
    "\n",
    "#Lifetime Value\n",
    "Lifetime_Value = '''SELECT customerkey, \n",
    "       customer_name, \n",
    "       ROUND(SUM(unit_price_usd * exchange * quantity), 2) AS total_revenue\n",
    "FROM combined_sales\n",
    "GROUP BY customerkey, customer_name\n",
    "ORDER BY total_revenue DESC;'''\n",
    "cursor.execute(Lifetime_Value)\n",
    "result = cursor.fetchall()\n",
    "df_Lifetime_Value = pd.DataFrame(result, columns=['customerkey', 'customer_name','total_revenue'])\n",
    "print(df_Lifetime_Value.head())\n",
    "\n",
    "#Top 10Lifetime Value\n",
    "Top_10_Lifetime_Value = '''SELECT customerkey, \n",
    "       customer_name, \n",
    "       ROUND(SUM(unit_price_usd * exchange * quantity), 2) AS total_revenue\n",
    "FROM combined_sales\n",
    "GROUP BY customerkey, customer_name\n",
    "ORDER BY total_revenue DESC\n",
    "limit 100;'''\n",
    "cursor.execute(Top_10_Lifetime_Value)\n",
    "result = cursor.fetchall()\n",
    "df_Top_10_Lifetime_Value = pd.DataFrame(result, columns=['customerkey', 'customer_name','total_revenue'])\n",
    "df_Top_10_Lifetime_Value.head()"
   ]
  },
  {
   "cell_type": "markdown",
   "metadata": {},
   "source": [
    "Sales and Revenue Analysis"
   ]
  },
  {
   "cell_type": "code",
   "execution_count": null,
   "metadata": {},
   "outputs": [],
   "source": [
    "#Total Revenue\n",
    "Total_Revenue = '''SELECT ROUND(SUM(unit_price_usd * exchange * quantity), 2) AS total_revenue\n",
    "FROM combined_sales;'''\n",
    "cursor.execute(Total_Revenue)\n",
    "result = cursor.fetchall()\n",
    "df_Total_Revenue = pd.DataFrame(result, columns=['total_revenue'])\n",
    "print(df_Total_Revenue.head())"
   ]
  },
  {
   "cell_type": "code",
   "execution_count": null,
   "metadata": {},
   "outputs": [],
   "source": [
    "#Monthly Sales\n",
    "Monthly_Sales = '''SELECT DATE_FORMAT(order_date, '%Y-%m') AS month, ROUND(SUM(unit_price_usd * exchange * quantity), 2) AS total_revenue\n",
    "FROM combined_sales \n",
    "GROUP BY DATE_FORMAT(order_date, '%Y-%m')\n",
    "ORDER BY month;'''\n",
    "cursor.execute(Monthly_Sales)\n",
    "result = cursor.fetchall()\n",
    "df_Monthly_Sales = pd.DataFrame(result, columns=['month','total_revenue'])\n",
    "print(df_Monthly_Sales.head())"
   ]
  },
  {
   "cell_type": "code",
   "execution_count": null,
   "metadata": {},
   "outputs": [],
   "source": [
    "#Top 10 Products\n",
    "Top_Products ='''SELECT product_name, SUM(quantity) AS total_quantity, ROUND(SUM(unit_price_usd * exchange * quantity), 2) AS total_revenue\n",
    "FROM combined_sales \n",
    "GROUP BY product_name\n",
    "ORDER BY total_revenue DESC\n",
    "LIMIT 10;'''\n",
    "cursor.execute(Top_Products)\n",
    "result = cursor.fetchall()\n",
    "df_Top_Products = pd.DataFrame(result, columns=['product_name','total_quantity','total_revenue'])\n",
    "print(df_Top_Products.head())"
   ]
  },
  {
   "cell_type": "markdown",
   "metadata": {},
   "source": [
    "Pricing and Profitability Analysis"
   ]
  },
  {
   "cell_type": "code",
   "execution_count": null,
   "metadata": {},
   "outputs": [],
   "source": [
    "#Unit Cost vs. Unit Price\n",
    "cost_vs_price = '''SELECT product_name, unit_cost_usd, unit_price_usd, (unit_price_usd - unit_cost_usd) AS profit_margin\n",
    "FROM combined_sales;'''\n",
    "cursor.execute(cost_vs_price)\n",
    "result = cursor.fetchall()\n",
    "df_cost_vs_price = pd.DataFrame(result, columns=['product_name','unit_cost_usd','unit_price_usd','profit_margin'])\n",
    "print(df_cost_vs_price.head())"
   ]
  },
  {
   "cell_type": "markdown",
   "metadata": {},
   "source": [
    "Order Analysis"
   ]
  },
  {
   "cell_type": "code",
   "execution_count": 35,
   "metadata": {},
   "outputs": [
    {
     "name": "stdout",
     "output_type": "stream",
     "text": [
      "   total_orders\n",
      "0         26326\n"
     ]
    }
   ],
   "source": [
    "#Number of Orders\n",
    "total_orders = '''SELECT COUNT(DISTINCT order_number) AS total_orders\n",
    "FROM combined_sales;'''\n",
    "cursor.execute(total_orders)\n",
    "result = cursor.fetchall()\n",
    "df_total_orders = pd.DataFrame(result, columns=['total_orders'])\n",
    "print(df_total_orders.head())"
   ]
  },
  {
   "cell_type": "code",
   "execution_count": 37,
   "metadata": {},
   "outputs": [
    {
     "name": "stdout",
     "output_type": "stream",
     "text": [
      "  average_order_value\n",
      "0             2102.46\n"
     ]
    }
   ],
   "source": [
    "#Average Order Value\n",
    "Average_Order_Value=''' \n",
    "SELECT round(avg(total_revenue),2) AS average_order_value\n",
    "FROM (\n",
    "    SELECT order_number, ROUND(SUM(unit_price_usd * exchange * quantity), 2) AS total_revenue\n",
    "    FROM combined_sales\n",
    "    GROUP BY order_number\n",
    ") sub;'''\n",
    "cursor.execute(Average_Order_Value)\n",
    "result = cursor.fetchall()\n",
    "df_average_order_value = pd.DataFrame(result, columns=['average_order_value'])\n",
    "print(df_average_order_value.head())"
   ]
  },
  {
   "cell_type": "markdown",
   "metadata": {},
   "source": [
    "Customer Behavior and Loyalty"
   ]
  },
  {
   "cell_type": "code",
   "execution_count": null,
   "metadata": {},
   "outputs": [],
   "source": [
    "#Purchase Frequency\n",
    "Purchase_Frequency = '''SELECT customerkey, customer_name, COUNT(DISTINCT order_number) AS purchase_frequency\n",
    "FROM combined_sales\n",
    "GROUP BY customerkey, customer_name\n",
    "ORDER BY purchase_frequency DESC;'''\n",
    "cursor.execute(Purchase_Frequency)\n",
    "result = cursor.fetchall()\n",
    "df_Purchase_Frequency = pd.DataFrame(result, columns=['customerkey','customer_name','purchase_frequency'])\n",
    "print(df_Purchase_Frequency.head())"
   ]
  },
  {
   "cell_type": "code",
   "execution_count": null,
   "metadata": {},
   "outputs": [],
   "source": [
    "#Churn Analysis\n",
    "Churn_Analysis = '''SELECT customerkey, customer_name, MAX(order_date) AS last_purchase_date\n",
    "FROM combined_sales \n",
    "GROUP BY customerkey, customer_name\n",
    "HAVING MAX(order_date) < DATE_SUB(CURDATE(), INTERVAL 6 MONTH);'''\n",
    "cursor.execute(Churn_Analysis)\n",
    "result = cursor.fetchall()\n",
    "df_Churn_Analysis = pd.DataFrame(result, columns=['customerkey','customer_name','last_purchase_date'])\n",
    "print(df_Churn_Analysis.head())"
   ]
  },
  {
   "cell_type": "markdown",
   "metadata": {},
   "source": [
    "Sales by Location"
   ]
  },
  {
   "cell_type": "code",
   "execution_count": null,
   "metadata": {},
   "outputs": [],
   "source": [
    "#Sales by Country\n",
    "Sales_by_Country = '''SELECT country, ROUND(SUM(unit_price_usd * exchange * quantity), 2) AS total_revenue\n",
    "FROM combined_sales \n",
    "GROUP BY country\n",
    "ORDER BY total_revenue DESC;\n",
    "'''\n",
    "cursor.execute(Sales_by_Country)\n",
    "result = cursor.fetchall()\n",
    "df_Sales_by_Country = pd.DataFrame(result, columns=['country','total_revenue'])\n",
    "print(df_Sales_by_Country.head())"
   ]
  },
  {
   "cell_type": "code",
   "execution_count": 41,
   "metadata": {},
   "outputs": [
    {
     "name": "stdout",
     "output_type": "stream",
     "text": [
      "                 store_state square_meters total_revenue\n",
      "0                     Online          0.00   11431369.95\n",
      "1      Northwest Territories       1500.00    1756645.28\n",
      "2  Newfoundland and Labrador       2105.00    1617620.45\n",
      "3                     Nevada       2000.00    1417885.41\n",
      "4                     Kansas       2000.00    1394738.06\n"
     ]
    }
   ],
   "source": [
    "#sales by store sq mtr\n",
    "sales_by_store_sq_mtr = '''SELECT store_state, square_meters, ROUND(SUM(unit_price_usd * exchange * quantity), 2) AS total_revenue\n",
    "FROM combined_sales \n",
    "GROUP BY store_state,square_meters\n",
    "ORDER BY total_revenue DESC;'''\n",
    "cursor.execute(sales_by_store_sq_mtr)\n",
    "result = cursor.fetchall()\n",
    "df_sales_by_store_sq_mtr = pd.DataFrame(result, columns=['store_state','square_meters','total_revenue'])\n",
    "print(df_sales_by_store_sq_mtr.head())"
   ]
  }
 ],
 "metadata": {
  "kernelspec": {
   "display_name": "Python 3",
   "language": "python",
   "name": "python3"
  },
  "language_info": {
   "codemirror_mode": {
    "name": "ipython",
    "version": 3
   },
   "file_extension": ".py",
   "mimetype": "text/x-python",
   "name": "python",
   "nbconvert_exporter": "python",
   "pygments_lexer": "ipython3",
   "version": "3.12.2"
  }
 },
 "nbformat": 4,
 "nbformat_minor": 2
}
