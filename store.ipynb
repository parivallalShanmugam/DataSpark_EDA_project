{
 "cells": [
  {
   "cell_type": "code",
   "execution_count": 1,
   "metadata": {},
   "outputs": [],
   "source": [
    "import pandas as pd\n",
    "import mysql.connector\n",
    "import re\n",
    "conn = mysql.connector.connect(username= \"root\",\n",
    "                               host = \"127.0.0.1\",\n",
    "                               password = \"Admin@123\",\n",
    "                               database = \"dataspark\")\n",
    "\n",
    "cursor = conn.cursor()"
   ]
  },
  {
   "cell_type": "code",
   "execution_count": 2,
   "metadata": {},
   "outputs": [
    {
     "name": "stdout",
     "output_type": "stream",
     "text": [
      "   StoreKey    Country                         State  Square Meters  Open Date\n",
      "0         1  Australia  Australian Capital Territory          595.0   1/1/2008\n",
      "1         2  Australia            Northern Territory          665.0  1/12/2008\n",
      "2         3  Australia               South Australia         2000.0   1/7/2012\n",
      "3         4  Australia                      Tasmania         2000.0   1/1/2010\n",
      "4         5  Australia                      Victoria         2000.0  12/9/2015\n",
      "<class 'pandas.core.frame.DataFrame'>\n",
      "RangeIndex: 67 entries, 0 to 66\n",
      "Data columns (total 5 columns):\n",
      " #   Column         Non-Null Count  Dtype  \n",
      "---  ------         --------------  -----  \n",
      " 0   StoreKey       67 non-null     int64  \n",
      " 1   Country        67 non-null     object \n",
      " 2   State          67 non-null     object \n",
      " 3   Square Meters  66 non-null     float64\n",
      " 4   Open Date      67 non-null     object \n",
      "dtypes: float64(1), int64(1), object(3)\n",
      "memory usage: 2.7+ KB\n",
      "None\n"
     ]
    }
   ],
   "source": [
    "df_stores = pd.read_csv('Stores.csv')\n",
    "\n",
    "print(df_stores.head())\n",
    "\n",
    "print(df_stores.info())\n",
    "\n",
    "df_stores.columns = df_stores.columns.str.lower()\n",
    "df_stores.columns = df_stores.columns.str.replace(\" \",\"_\")\n",
    "\n",
    "df_stores['open_date'] = pd.to_datetime(df_stores['open_date'])\n",
    "\n",
    "# df_stores['open_date'] = df_stores['open_date'].dt.strftime('%Y-%m-%d')\n",
    "\n"
   ]
  },
  {
   "cell_type": "code",
   "execution_count": 3,
   "metadata": {},
   "outputs": [
    {
     "data": {
      "text/plain": [
       "Index(['storekey', 'country', 'state', 'square_meters', 'open_date'], dtype='object')"
      ]
     },
     "execution_count": 3,
     "metadata": {},
     "output_type": "execute_result"
    }
   ],
   "source": [
    "df_stores.columns"
   ]
  },
  {
   "cell_type": "code",
   "execution_count": 3,
   "metadata": {},
   "outputs": [
    {
     "name": "stdout",
     "output_type": "stream",
     "text": [
      "st.storekey\n",
      "st.country\n",
      "st.state\n",
      "st.square_meters\n",
      "st.open_date\n"
     ]
    }
   ],
   "source": [
    "columns = df_stores.columns\n",
    "# Prefix to add\n",
    "prefix = 'st.'\n",
    "\n",
    "# Convert column names\n",
    "converted_columns = [f'{prefix}{col}' for col in columns]\n",
    "columns = ['c.'.join(column) for column in columns]\n",
    "\n",
    "for i in converted_columns:\n",
    "    print(i)"
   ]
  },
  {
   "cell_type": "code",
   "execution_count": 4,
   "metadata": {},
   "outputs": [],
   "source": [
    "df_stores['square_meters'] = df_stores['square_meters'].fillna(0.0)"
   ]
  },
  {
   "cell_type": "code",
   "execution_count": 5,
   "metadata": {},
   "outputs": [
    {
     "data": {
      "text/html": [
       "<div>\n",
       "<style scoped>\n",
       "    .dataframe tbody tr th:only-of-type {\n",
       "        vertical-align: middle;\n",
       "    }\n",
       "\n",
       "    .dataframe tbody tr th {\n",
       "        vertical-align: top;\n",
       "    }\n",
       "\n",
       "    .dataframe thead th {\n",
       "        text-align: right;\n",
       "    }\n",
       "</style>\n",
       "<table border=\"1\" class=\"dataframe\">\n",
       "  <thead>\n",
       "    <tr style=\"text-align: right;\">\n",
       "      <th></th>\n",
       "      <th>storekey</th>\n",
       "      <th>country</th>\n",
       "      <th>state</th>\n",
       "      <th>square_meters</th>\n",
       "      <th>open_date</th>\n",
       "    </tr>\n",
       "  </thead>\n",
       "  <tbody>\n",
       "  </tbody>\n",
       "</table>\n",
       "</div>"
      ],
      "text/plain": [
       "Empty DataFrame\n",
       "Columns: [storekey, country, state, square_meters, open_date]\n",
       "Index: []"
      ]
     },
     "execution_count": 5,
     "metadata": {},
     "output_type": "execute_result"
    }
   ],
   "source": [
    "df_stores[df_stores.duplicated()]"
   ]
  },
  {
   "cell_type": "code",
   "execution_count": 9,
   "metadata": {},
   "outputs": [
    {
     "name": "stdout",
     "output_type": "stream",
     "text": [
      "<class 'pandas.core.frame.DataFrame'>\n",
      "RangeIndex: 67 entries, 0 to 66\n",
      "Data columns (total 5 columns):\n",
      " #   Column         Non-Null Count  Dtype         \n",
      "---  ------         --------------  -----         \n",
      " 0   storekey       67 non-null     int64         \n",
      " 1   country        67 non-null     object        \n",
      " 2   state          67 non-null     object        \n",
      " 3   square_meters  67 non-null     float64       \n",
      " 4   open_date      67 non-null     datetime64[ns]\n",
      "dtypes: datetime64[ns](1), float64(1), int64(1), object(2)\n",
      "memory usage: 2.7+ KB\n"
     ]
    }
   ],
   "source": [
    "df_stores.info()"
   ]
  },
  {
   "cell_type": "code",
   "execution_count": 6,
   "metadata": {},
   "outputs": [],
   "source": [
    "# insert_stores_values = '''\n",
    "#     INSERT INTO stores (storekey, \n",
    "#                         country, \n",
    "#                         state, \n",
    "#                         square_meters, \n",
    "#                         open_date)\n",
    "#     VALUES (%s, %s, %s, %s, %s)\n",
    "#    '''\n",
    "insert_stores_values = '''\n",
    "    INSERT INTO stores (storekey, country, state, square_meters, open_date)\n",
    "    VALUES (%s, %s, %s, %s, %s)\n",
    "    ON DUPLICATE KEY UPDATE\n",
    "    country=VALUES(country),\n",
    "    state=VALUES(state),\n",
    "    square_meters=VALUES(square_meters),\n",
    "    open_date=VALUES(open_date)\n",
    "'''\n",
    "\n",
    "\n",
    "for index, row in df_stores.iterrows():\n",
    "    cursor.execute(insert_stores_values, (\n",
    "        row['storekey'],\n",
    "        row['country'],\n",
    "        row['state'],\n",
    "        row['square_meters'],\n",
    "        row['open_date']\n",
    "))\n",
    "conn.commit()        "
   ]
  }
 ],
 "metadata": {
  "kernelspec": {
   "display_name": "Python 3",
   "language": "python",
   "name": "python3"
  },
  "language_info": {
   "codemirror_mode": {
    "name": "ipython",
    "version": 3
   },
   "file_extension": ".py",
   "mimetype": "text/x-python",
   "name": "python",
   "nbconvert_exporter": "python",
   "pygments_lexer": "ipython3",
   "version": "3.12.2"
  }
 },
 "nbformat": 4,
 "nbformat_minor": 2
}
