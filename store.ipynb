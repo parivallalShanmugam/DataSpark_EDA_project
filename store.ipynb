{
 "cells": [
  {
   "cell_type": "code",
   "execution_count": null,
   "metadata": {},
   "outputs": [],
   "source": [
    "import pandas as pd\n",
    "import mysql.connector\n",
    "import re\n",
    "conn = mysql.connector.connect(username= \"root\",\n",
    "                               host = \"127.0.0.1\",\n",
    "                               password = \"Admin@123\",\n",
    "                               database = \"dataspark\")\n",
    "\n",
    "cursor = conn.cursor()"
   ]
  },
  {
   "cell_type": "code",
   "execution_count": null,
   "metadata": {},
   "outputs": [],
   "source": [
    "df_stores = pd.read_csv('Stores.csv')\n",
    "\n",
    "print(df_stores.head())\n",
    "\n",
    "print(df_stores.info())\n",
    "\n",
    "df_stores.columns = df_stores.columns.str.lower()\n",
    "df_stores.columns = df_stores.columns.str.replace(\" \",\"_\")\n",
    "\n",
    "df_stores['open_date'] = pd.to_datetime(df_stores['open_date'])\n",
    "\n",
    "df_stores['square_meters'] = df_stores['square_meters'].fillna(0.0)"
   ]
  },
  {
   "cell_type": "code",
   "execution_count": null,
   "metadata": {},
   "outputs": [],
   "source": [
    "# insert_stores_values = '''\n",
    "#     INSERT INTO stores (storekey, \n",
    "#                         country, \n",
    "#                         state, \n",
    "#                         square_meters, \n",
    "#                         open_date)\n",
    "#     VALUES (%s, %s, %s, %s, %s)\n",
    "#    '''\n",
    "insert_stores_values = '''\n",
    "    INSERT INTO stores (storekey, country, state, square_meters, open_date)\n",
    "    VALUES (%s, %s, %s, %s, %s)\n",
    "    ON DUPLICATE KEY UPDATE\n",
    "    country=VALUES(country),\n",
    "    state=VALUES(state),\n",
    "    square_meters=VALUES(square_meters),\n",
    "    open_date=VALUES(open_date)\n",
    "'''\n",
    "\n",
    "\n",
    "for index, row in df_stores.iterrows():\n",
    "    cursor.execute(insert_stores_values, (\n",
    "        row['storekey'],\n",
    "        row['country'],\n",
    "        row['state'],\n",
    "        row['square_meters'],\n",
    "        row['open_date']\n",
    "))\n",
    "conn.commit()        "
   ]
  },
  {
   "cell_type": "code",
   "execution_count": null,
   "metadata": {},
   "outputs": [],
   "source": [
    "columns = df_stores.columns\n",
    "# Prefix to add\n",
    "prefix = 'st.'\n",
    "\n",
    "# Convert column names\n",
    "converted_columns = [f'{prefix}{col}' for col in columns]\n",
    "columns = ['c.'.join(column) for column in columns]\n",
    "\n",
    "for i in converted_columns:\n",
    "    print(i)"
   ]
  }
 ],
 "metadata": {
  "kernelspec": {
   "display_name": "Python 3",
   "language": "python",
   "name": "python3"
  },
  "language_info": {
   "codemirror_mode": {
    "name": "ipython",
    "version": 3
   },
   "file_extension": ".py",
   "mimetype": "text/x-python",
   "name": "python",
   "nbconvert_exporter": "python",
   "pygments_lexer": "ipython3",
   "version": "3.12.2"
  }
 },
 "nbformat": 4,
 "nbformat_minor": 2
}
